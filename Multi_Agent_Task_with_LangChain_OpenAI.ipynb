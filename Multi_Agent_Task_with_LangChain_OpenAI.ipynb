{
  "nbformat": 4,
  "nbformat_minor": 0,
  "metadata": {
    "colab": {
      "provenance": [],
      "authorship_tag": "ABX9TyMJSZo9cKDgfPfWhFUiQxZ6"
    },
    "kernelspec": {
      "name": "python3",
      "display_name": "Python 3"
    },
    "language_info": {
      "name": "python"
    }
  },
  "cells": [
    {
      "cell_type": "code",
      "source": [
        "# Notebook: Multi-Agent Task with LangChain OpenAI\n",
        "# Author: Thomas Purk\n",
        "# Date: 2025-04-16\n",
        "# Reference: https://python.langchain.com/api_reference/langchain/agents/langchain.agents.agent.AgentExecutor.html#langchain.agents.agent.AgentExecutor.run"
      ],
      "metadata": {
        "id": "aOgl8c_xHoiF"
      },
      "execution_count": null,
      "outputs": []
    },
    {
      "cell_type": "markdown",
      "source": [
        "# Multi-Agent Task with LangChain OpenAI\n",
        "\n",
        "This project demonstrates the core concepts of multi-agent orchestration. It\n",
        "uses a Runnable Sequence to execute agents in a linear deterministic arrangement.\n",
        "\n",
        "- Each agent has a role and domain-specific instruction.\n",
        "- Outputs are passed from one agent to another.\n",
        "- The whole system creates more value than a single LLM call.\n",
        "\n",
        "\n",
        "**Token Access Required**\n",
        "\n",
        "This Google Colab Notebook uses the built in Colab Secrets feature to supply access to the following tokens\n",
        "\n",
        "- OpenAI"
      ],
      "metadata": {
        "id": "LQhy_mVxG4IX"
      }
    },
    {
      "cell_type": "markdown",
      "source": [
        "## Notebook Setup"
      ],
      "metadata": {
        "id": "MJBO9KRBIkE2"
      }
    },
    {
      "cell_type": "code",
      "source": [
        "# Note: uninstall and re-install with langchain-openai tied to 0.3.14 to resolve incompatibility.\n",
        "#!pip uninstall langchain langchain-core langchain-openai -y"
      ],
      "metadata": {
        "collapsed": true,
        "id": "Br4ctngOjN-k"
      },
      "execution_count": 43,
      "outputs": []
    },
    {
      "cell_type": "code",
      "source": [
        "#!pip install --no-cache-dir --upgrade langchain langchain-core langchain-community langchain-openai==0.3.14"
      ],
      "metadata": {
        "id": "DkunwTEYJzZ_",
        "collapsed": true
      },
      "execution_count": 42,
      "outputs": []
    },
    {
      "cell_type": "code",
      "source": [
        "!pip list | grep \"langchain\\|langchain-community\\|langchain-openai\""
      ],
      "metadata": {
        "colab": {
          "base_uri": "https://localhost:8080/"
        },
        "id": "ehznzN4aJ50U",
        "outputId": "16dec72d-dbfd-4eb8-ab46-fa670774cdee"
      },
      "execution_count": 3,
      "outputs": [
        {
          "output_type": "stream",
          "name": "stdout",
          "text": [
            "langchain                             0.3.23\n",
            "langchain-community                   0.3.21\n",
            "langchain-core                        0.3.53\n",
            "langchain-openai                      0.3.14\n",
            "langchain-text-splitters              0.3.8\n"
          ]
        }
      ]
    },
    {
      "cell_type": "code",
      "source": [
        "# Setup the Notebook\n",
        "\n",
        "# General\n",
        "from google.colab import userdata\n",
        "import os\n",
        "import logging\n",
        "#logging.getLogger(\"transformers\").setLevel(logging.WARNING) # Suppress unnecessary logging\n",
        "\n",
        "# Visualization & User Interface\n",
        "import ipywidgets as widgets\n",
        "from IPython.display import display, Markdown, clear_output\n",
        "\n",
        "# NLP\n",
        "from langchain_openai import ChatOpenAI\n",
        "from langchain.prompts import PromptTemplate\n",
        "from langchain.agents import initialize_agent, Tool, AgentType\n",
        "\n",
        "# Set your OpenAI API Key\n",
        "os.environ[\"OPENAI_API_KEY\"] = userdata.get('OPENAI_API_KEY')"
      ],
      "metadata": {
        "id": "Y86-OJAXIRku"
      },
      "execution_count": 5,
      "outputs": []
    },
    {
      "cell_type": "markdown",
      "source": [
        "## Models and Agents"
      ],
      "metadata": {
        "id": "HY0akpHEJb0c"
      }
    },
    {
      "cell_type": "code",
      "source": [
        "# Create the Open AI Chat Object\n",
        "open_ai_llm = ChatOpenAI(\n",
        "    temperature=0.7,\n",
        "    model_name=\"gpt-4o-mini\"\n",
        ")"
      ],
      "metadata": {
        "id": "llkBnLgxJdU8"
      },
      "execution_count": 6,
      "outputs": []
    },
    {
      "cell_type": "code",
      "source": [
        "#  Create the Researcher Agent\n",
        "researcher_prompt = PromptTemplate(\n",
        "    input_variables=[\"topic\"],\n",
        "    template=\"\"\"\n",
        "        You are a researcher. Collect factual and interesting insights about the topic:\n",
        "        {topic}.\n",
        "        \"\"\"\n",
        ")\n",
        "\n",
        "researcher_chain = researcher_prompt | open_ai_llm"
      ],
      "metadata": {
        "id": "ipEvFwVNKO53"
      },
      "execution_count": 7,
      "outputs": []
    },
    {
      "cell_type": "code",
      "source": [
        "# Create the Writer Agent\n",
        "\n",
        "writer_prompt = PromptTemplate(\n",
        "    input_variables=[\"research_notes\"],\n",
        "    template=\"\"\"\n",
        "        You are a blog writer. Write a concise, informative blog post using the following research notes:\n",
        "        {research_notes}\n",
        "        Limit to 200 words. Make it engaging.\n",
        "        \"\"\"\n",
        ")\n",
        "\n",
        "writer_chain = writer_prompt | open_ai_llm"
      ],
      "metadata": {
        "id": "j1mvbUrrQaO6"
      },
      "execution_count": 9,
      "outputs": []
    },
    {
      "cell_type": "code",
      "source": [
        "# Create the Reviewer Agent\n",
        "\n",
        "reviewer_prompt = PromptTemplate(\n",
        "    input_variables=[\"draft\"],\n",
        "    template=\"\"\"\n",
        "        You are an expert editor. Review the following blog post draft and provide constructive feedback and suggested improvements:\n",
        "        {draft}\n",
        "        \"\"\"\n",
        ")\n",
        "\n",
        "reviewer_chain = reviewer_prompt | open_ai_llm"
      ],
      "metadata": {
        "id": "t3Wnhzo2QcpC"
      },
      "execution_count": 8,
      "outputs": []
    },
    {
      "cell_type": "code",
      "source": [
        "# Create a tracing function to capture the workflow step output\n",
        "tracker = {}\n",
        "def tracing_function(chain, name):\n",
        "    def wrapper(input_dict):\n",
        "        tracker[name] = chain.invoke(input_dict)\n",
        "        return tracker[name]\n",
        "    return wrapper\n",
        "\n",
        "# Add the agents chains to a tools list\n",
        "tools = [\n",
        "    Tool(\n",
        "        name=\"ResearcherAgent\",\n",
        "        func=tracing_function(researcher_chain, \"research\"),\n",
        "        description=\"Gathers information about a topic.\"\n",
        "    ),\n",
        "    Tool(\n",
        "        name=\"WriterAgent\",\n",
        "        func=tracing_function(writer_chain, \"draft\"),\n",
        "        description=\"Drafts a post based on the research material.\"\n",
        "    ),\n",
        "    Tool(\n",
        "        name=\"ReviewerAgent\",\n",
        "        func=tracing_function(reviewer_chain, \"review\"),\n",
        "        description=\"Reviews the draft research post\"\n",
        "    )\n",
        "]\n",
        "\n",
        "agent = initialize_agent(\n",
        "    tools=tools,\n",
        "    llm=open_ai_llm\n",
        ")"
      ],
      "metadata": {
        "id": "LrHyEoGNQfiU"
      },
      "execution_count": 18,
      "outputs": []
    },
    {
      "cell_type": "code",
      "source": [
        "# Example run\n",
        "result = agent.run(\"Sharpening woodworking handtools using water stones\")\n",
        "\n",
        "print(\"\\n\\nFinal Output:\")\n",
        "\n",
        "print(\"-\" * 50, \"\\nResearch:\\n\", \"-\" * 50 )\n",
        "display(Markdown(tracker[\"research\"].text()))\n",
        "\n",
        "print(\"-\" * 50, \"\\nDraft:\\n\", \"-\" * 50)\n",
        "display(Markdown(tracker[\"draft\"].text()))\n",
        "\n",
        "print(\"-\" * 50, \"\\nReview:\\n\", \"-\" * 50)\n",
        "display(Markdown(tracker[\"review\"].text()))\n"
      ],
      "metadata": {
        "id": "WxyN3705Qi5m",
        "colab": {
          "base_uri": "https://localhost:8080/",
          "height": 1000
        },
        "outputId": "9f873389-f9c6-4a47-9ba7-22be8960f615"
      },
      "execution_count": 27,
      "outputs": [
        {
          "output_type": "stream",
          "name": "stdout",
          "text": [
            "\n",
            "\n",
            "Final Output:\n",
            "-------------------------------------------------- \n",
            "Research:\n",
            " --------------------------------------------------\n"
          ]
        },
        {
          "output_type": "display_data",
          "data": {
            "text/plain": [
              "<IPython.core.display.Markdown object>"
            ],
            "text/markdown": "Sharpening woodworking hand tools using water stones is a traditional and effective method that many woodworkers prefer for achieving a keen edge on their tools. Here are some factual and interesting insights about this topic:\n\n### 1. **Types of Water Stones**:\n   - **Synthetic vs. Natural**: Water stones can be either synthetic or natural. Synthetic stones are made from man-made materials and often provide consistent performance, while natural stones come from specific quarries and can exhibit unique characteristics.\n   - **Grit Levels**: Water stones come in various grit levels, typically ranging from coarse (around 200-1000 grit) for shaping and repairing edges, to medium (around 1000-3000 grit) for sharpening, and fine (over 5000 grit) for honing and polishing edges to a mirror finish.\n\n### 2. **Sharpening Process**:\n   - **Soaking**: Unlike oil stones, water stones are soaked in water for about 10-15 minutes before use. This helps to create a slurry that aids in the sharpening process.\n   - **Angle Consistency**: Maintaining a consistent angle (usually between 25-30 degrees for chisels and planes) is crucial for effective sharpening. Many woodworkers use jigs or guides to achieve this.\n   - **Technique**: The technique often involves moving the tool in a back-and-forth or circular motion across the stone, ensuring even wear on the tool's edge.\n\n### 3. **Benefits of Water Stones**:\n   - **Fast Cutting Action**: Water stones tend to cut faster than oil stones, making the sharpening process more efficient.\n   - **Ease of Use**: They are generally easier to use for beginners, as they do not require the use of any oils or special maintenance beyond regular soaking.\n   - **Fine Finish**: Water stones can produce a very fine, polished edge that is desirable for woodworking tasks, resulting in cleaner cuts and finishes.\n\n### 4. **Maintenance and Care**:\n   - **Flattening**: Water stones can become uneven over time, so regular flattening is necessary. This can be done using a flattening stone or a diamond plate.\n   - **Storage**: It's best to store water stones in a dry place to prevent them from becoming too soft or damaged. They can be stored in a plastic container or a wooden box to protect them.\n\n### 5. **Environmental Considerations**:\n   - **Sustainability**: Natural water stones are a sustainable resource when sourced responsibly. However, synthetic stones can be made from materials that may not be environmentally friendly.\n   - **Water Usage**: The use of water stones can require more water than oil stones, leading to considerations about water usage in certain regions.\n\n### 6. **Cultural Significance**:\n   - Water stones, particularly Japanese water stones (like the famous Shapton and Naniwa stones), hold significant cultural importance in woodworking traditions, reflecting craftsmanship and precision.\n   - They are often celebrated in woodworking communities for their effectiveness and the skill required to use them properly, linking the act of sharpening to the broader practice of craftsmanship.\n\n### 7. **Learning Curve**:\n   - Although they are user-friendly, mastering the use of water stones takes practice. Experienced woodworkers often have personal preferences regarding the types of stones and techniques that work best for them.\n\n### 8. **Comparison with Other Sharpening Methods**:\n   - Water stones are often compared with oil stones and diamond plates. Each method has its pros and cons, but many woodworkers favor water stones for their ability to produce a fine edge and the ease of cleanup.\n\n### Conclusion:\nSharpening woodworking hand tools with water stones is a blend of art and science. It requires knowledge of materials and techniques, but the results can greatly enhance the performance of hand tools, leading to more enjoyable and efficient woodworking experiences. As woodworking continues to gain popularity, the use of water stones remains a respected tradition that combines heritage with practical skill."
          },
          "metadata": {}
        },
        {
          "output_type": "stream",
          "name": "stdout",
          "text": [
            "-------------------------------------------------- \n",
            "Draft:\n",
            " --------------------------------------------------\n"
          ]
        },
        {
          "output_type": "display_data",
          "data": {
            "text/plain": [
              "<IPython.core.display.Markdown object>"
            ],
            "text/markdown": "### Mastering the Art of Sharpening Woodworking Tools with Water Stones\n\nSharpening woodworking tools with water stones is a cherished technique among woodworkers, revered for delivering razor-sharp edges. Available in both synthetic and natural forms, these stones range from coarse (200-1000 grit) for shaping to fine (over 5000 grit) for polishing.\n\nStart by soaking your water stone for 10-15 minutes to create a slurry that enhances cutting efficiency. Maintaining a consistent angle of 25-30 degrees is essential; many woodworkers use jigs for precision. This careful process results in a polished edge that can elevate your woodworking projects.\n\nWater stones are favored for their fast cutting action and user-friendliness, making them perfect for beginners. However, they do require maintenance—regular flattening and careful storage are key. Rinse and dry your stone after each use to keep it in top shape.\n\nRichly embedded in cultural traditions, especially in Japanese woodworking, water stones highlight the artisan's skill. While other sharpening methods exist, none quite match the exceptional edges and minimal cleanup that water stones provide.\n\n### Conclusion\nEmbark on your sharpening journey by honing a chisel or plane blade. Share your experiences in the comments, and subscribe for more woodworking insights!"
          },
          "metadata": {}
        },
        {
          "output_type": "stream",
          "name": "stdout",
          "text": [
            "-------------------------------------------------- \n",
            "Review:\n",
            " --------------------------------------------------\n"
          ]
        },
        {
          "output_type": "display_data",
          "data": {
            "text/plain": [
              "<IPython.core.display.Markdown object>"
            ],
            "text/markdown": "Your blog post draft on sharpening woodworking hand tools using water stones is informative and well-structured. Here are some constructive feedback and suggestions for improvement:\n\n### Title\n- **Suggestion**: Consider making the title more engaging. For example, \"Mastering the Art of Sharpening Woodworking Tools with Water Stones\" adds a sense of skill and mastery.\n\n### Introduction\n- **Strength**: The introduction effectively outlines the importance of water stones in woodworking.\n- **Improvement**: You might want to add a brief anecdote or a quote from a famous woodworker to draw readers in more personally. \n\n### Content Clarity\n- **Strength**: You provide a good overview of the types of water stones and their uses.\n- **Improvement**: It may help to briefly explain what grit levels mean for those unfamiliar with sharpening tools. For example:\n  - \"Coarse grits (200-1000) are used for shaping and removing material quickly, while fine grits (over 5000) refine the edge for a polished finish.\"\n\n### Technical Details\n- **Strength**: You mention the importance of angle and the use of jigs.\n- **Improvement**: Consider providing a little more detail about how to maintain the angle or examples of jigs that are effective. A link to recommended products or further resources could be beneficial.\n\n### Maintenance Section\n- **Suggestion**: Expand on the maintenance of water stones. You could include tips such as:\n  - \"After each use, it’s advisable to rinse the stone with clean water and dry it thoroughly before storage.\"\n  - \"Flattening stones can be done using a flat surface and a coarse grit stone for effective results.\"\n\n### Cultural Significance\n- **Strength**: The mention of cultural significance adds depth to your post.\n- **Improvement**: You might elaborate on the specific Japanese techniques or traditions related to water stones. This could attract readers interested in cultural aspects of woodworking.\n\n### Conclusion\n- **Strength**: The conclusion summarizes the benefits of using water stones effectively.\n- **Improvement**: You could also encourage readers to practice by providing a simple step-by-step guide on how to sharpen a specific tool (e.g., a chisel or plane blade) using water stones.\n\n### Overall Suggestions\n- **Visuals**: Consider including images or diagrams of the sharpening process, different types of water stones, or even the end results. Visual aids can greatly enhance understanding and engagement.\n- **Call to Action**: End with a call to action, inviting readers to share their experiences with water stones in the comments or to subscribe for more woodworking tips.\n\n### Final Thought\nOverall, your draft is strong, with just a few areas for enhancement. By adding more detail, examples, and visuals, you can create a richer, more engaging post that will resonate with both novice and experienced woodworkers. Great work!"
          },
          "metadata": {}
        }
      ]
    },
    {
      "cell_type": "code",
      "source": [
        "from graphviz import Digraph\n",
        "\n",
        "# Initialize the graph\n",
        "dot = Digraph(comment='Multi-Agent Workflow')\n",
        "dot.attr(label='Multi-Agent Workflow Overview', fontsize='20', labelloc='t')\n",
        "\n",
        "\n",
        "# Nodes: Represent each agent\n",
        "dot.node('User', 'User\\n(Prompt or Query)', shape='oval', style='filled', fillcolor='lightgray')\n",
        "dot.node('ResearcherAgent', 'Researcher Agent\\n\"Gathers information about a topic.\"', shape='box', style='filled', fillcolor='lightblue')\n",
        "dot.node('WriterAgent', 'Writer Agent\\n\"Drafts a post based on research.\"', shape='box', style='filled', fillcolor='lightgreen')\n",
        "dot.node('ReviewerAgent', 'Reviewer Agent\\n\"Reviews the draft post.\"', shape='box', style='filled', fillcolor='orange')\n",
        "dot.node('Output', 'Final Output\\n(Reviewed Draft)', shape='oval', style='filled', fillcolor='lightgray')\n",
        "\n",
        "# Edges: Represent the flow\n",
        "dot.edge('User', 'ResearcherAgent', label='  start')\n",
        "dot.edge('ResearcherAgent', 'WriterAgent')\n",
        "dot.edge('WriterAgent', 'ReviewerAgent')\n",
        "dot.edge('ReviewerAgent', 'Output')\n",
        "\n",
        "# Render graph\n",
        "display(dot)\n"
      ],
      "metadata": {
        "colab": {
          "base_uri": "https://localhost:8080/",
          "height": 583
        },
        "id": "7zVbPReWFf0b",
        "outputId": "6a84b0d6-346d-4a75-9fda-1b51f247067a"
      },
      "execution_count": 41,
      "outputs": [
        {
          "output_type": "display_data",
          "data": {
            "image/svg+xml": "<?xml version=\"1.0\" encoding=\"UTF-8\" standalone=\"no\"?>\n<!DOCTYPE svg PUBLIC \"-//W3C//DTD SVG 1.1//EN\"\n \"http://www.w3.org/Graphics/SVG/1.1/DTD/svg11.dtd\">\n<!-- Generated by graphviz version 2.43.0 (0)\n -->\n<!-- Title: %3 Pages: 1 -->\n<svg width=\"290pt\" height=\"421pt\"\n viewBox=\"0.00 0.00 290.00 421.48\" xmlns=\"http://www.w3.org/2000/svg\" xmlns:xlink=\"http://www.w3.org/1999/xlink\">\n<g id=\"graph0\" class=\"graph\" transform=\"scale(1 1) rotate(0) translate(4 417.48)\">\n<title>%3</title>\n<polygon fill=\"white\" stroke=\"transparent\" points=\"-4,4 -4,-417.48 286,-417.48 286,4 -4,4\"/>\n<text text-anchor=\"middle\" x=\"141\" y=\"-393.48\" font-family=\"Times,serif\" font-size=\"20.00\">Multi&#45;Agent Workflow Overview</text>\n<!-- User -->\n<g id=\"node1\" class=\"node\">\n<title>User</title>\n<ellipse fill=\"lightgray\" stroke=\"black\" cx=\"141\" cy=\"-356.61\" rx=\"84.29\" ry=\"26.74\"/>\n<text text-anchor=\"middle\" x=\"141\" y=\"-360.41\" font-family=\"Times,serif\" font-size=\"14.00\">User</text>\n<text text-anchor=\"middle\" x=\"141\" y=\"-345.41\" font-family=\"Times,serif\" font-size=\"14.00\">(Prompt or Query)</text>\n</g>\n<!-- ResearcherAgent -->\n<g id=\"node2\" class=\"node\">\n<title>ResearcherAgent</title>\n<polygon fill=\"lightblue\" stroke=\"black\" points=\"249.5,-278.74 32.5,-278.74 32.5,-240.74 249.5,-240.74 249.5,-278.74\"/>\n<text text-anchor=\"middle\" x=\"141\" y=\"-263.54\" font-family=\"Times,serif\" font-size=\"14.00\">Researcher Agent</text>\n<text text-anchor=\"middle\" x=\"141\" y=\"-248.54\" font-family=\"Times,serif\" font-size=\"14.00\">&quot;Gathers information about a topic.&quot;</text>\n</g>\n<!-- User&#45;&gt;ResearcherAgent -->\n<g id=\"edge1\" class=\"edge\">\n<title>User&#45;&gt;ResearcherAgent</title>\n<path fill=\"none\" stroke=\"black\" d=\"M141,-329.69C141,-317.09 141,-301.91 141,-289.02\"/>\n<polygon fill=\"black\" stroke=\"black\" points=\"144.5,-288.82 141,-278.82 137.5,-288.82 144.5,-288.82\"/>\n<text text-anchor=\"middle\" x=\"156.5\" y=\"-300.54\" font-family=\"Times,serif\" font-size=\"14.00\"> &#160;start</text>\n</g>\n<!-- WriterAgent -->\n<g id=\"node3\" class=\"node\">\n<title>WriterAgent</title>\n<polygon fill=\"lightgreen\" stroke=\"black\" points=\"242.5,-203.74 39.5,-203.74 39.5,-165.74 242.5,-165.74 242.5,-203.74\"/>\n<text text-anchor=\"middle\" x=\"141\" y=\"-188.54\" font-family=\"Times,serif\" font-size=\"14.00\">Writer Agent</text>\n<text text-anchor=\"middle\" x=\"141\" y=\"-173.54\" font-family=\"Times,serif\" font-size=\"14.00\">&quot;Drafts a post based on research.&quot;</text>\n</g>\n<!-- ResearcherAgent&#45;&gt;WriterAgent -->\n<g id=\"edge2\" class=\"edge\">\n<title>ResearcherAgent&#45;&gt;WriterAgent</title>\n<path fill=\"none\" stroke=\"black\" d=\"M141,-240.7C141,-232.62 141,-222.92 141,-213.92\"/>\n<polygon fill=\"black\" stroke=\"black\" points=\"144.5,-213.83 141,-203.83 137.5,-213.83 144.5,-213.83\"/>\n</g>\n<!-- ReviewerAgent -->\n<g id=\"node4\" class=\"node\">\n<title>ReviewerAgent</title>\n<polygon fill=\"orange\" stroke=\"black\" points=\"218.5,-128.74 63.5,-128.74 63.5,-90.74 218.5,-90.74 218.5,-128.74\"/>\n<text text-anchor=\"middle\" x=\"141\" y=\"-113.54\" font-family=\"Times,serif\" font-size=\"14.00\">Reviewer Agent</text>\n<text text-anchor=\"middle\" x=\"141\" y=\"-98.54\" font-family=\"Times,serif\" font-size=\"14.00\">&quot;Reviews the draft post.&quot;</text>\n</g>\n<!-- WriterAgent&#45;&gt;ReviewerAgent -->\n<g id=\"edge3\" class=\"edge\">\n<title>WriterAgent&#45;&gt;ReviewerAgent</title>\n<path fill=\"none\" stroke=\"black\" d=\"M141,-165.7C141,-157.62 141,-147.92 141,-138.92\"/>\n<polygon fill=\"black\" stroke=\"black\" points=\"144.5,-138.83 141,-128.83 137.5,-138.83 144.5,-138.83\"/>\n</g>\n<!-- Output -->\n<g id=\"node5\" class=\"node\">\n<title>Output</title>\n<ellipse fill=\"lightgray\" stroke=\"black\" cx=\"141\" cy=\"-26.87\" rx=\"79.39\" ry=\"26.74\"/>\n<text text-anchor=\"middle\" x=\"141\" y=\"-30.67\" font-family=\"Times,serif\" font-size=\"14.00\">Final Output</text>\n<text text-anchor=\"middle\" x=\"141\" y=\"-15.67\" font-family=\"Times,serif\" font-size=\"14.00\">(Reviewed Draft)</text>\n</g>\n<!-- ReviewerAgent&#45;&gt;Output -->\n<g id=\"edge4\" class=\"edge\">\n<title>ReviewerAgent&#45;&gt;Output</title>\n<path fill=\"none\" stroke=\"black\" d=\"M141,-90.39C141,-82.53 141,-73.07 141,-63.92\"/>\n<polygon fill=\"black\" stroke=\"black\" points=\"144.5,-63.81 141,-53.81 137.5,-63.81 144.5,-63.81\"/>\n</g>\n</g>\n</svg>\n",
            "text/plain": [
              "<graphviz.graphs.Digraph at 0x79d62828b7d0>"
            ]
          },
          "metadata": {}
        }
      ]
    }
  ]
}