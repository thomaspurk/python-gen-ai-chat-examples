{
  "nbformat": 4,
  "nbformat_minor": 0,
  "metadata": {
    "colab": {
      "provenance": [],
      "authorship_tag": "ABX9TyNYJ9QsG/+f1or8luAtlxIu"
    },
    "kernelspec": {
      "name": "python3",
      "display_name": "Python 3"
    },
    "language_info": {
      "name": "python"
    }
  },
  "cells": [
    {
      "cell_type": "code",
      "source": [
        "# Notebook: RAG with LangChain FAISS OpenAI\n",
        "# Author: Thomas Purk\n",
        "# Date: 2025-04-15\n",
        "# Reference: https://www.gutenberg.org/ebooks/23666\n",
        "# Reference: https://python.langchain.com/docs/integrations/vectorstores/faiss/"
      ],
      "metadata": {
        "id": "gMvez0Fva3bp"
      },
      "execution_count": null,
      "outputs": []
    },
    {
      "cell_type": "markdown",
      "source": [
        "# RAG with LangChain OpenAI\n",
        "\n",
        "- Retrieval-Augmented Generation (RAG)\n",
        "- Load documents\n",
        "- Embed document text\n",
        "- Index documents using FAISS\n",
        "- Retrieve relevant chunks based on user query\n",
        "- Generate a response using OpenAI GPT (3.5/4)\n",
        "\n",
        "**Token Access Required**\n",
        "\n",
        "This Google Colab Notebook uses the built in Colab Secrets feature to supply\n",
        "access to the following tokens\n",
        "- Hugging Face\n",
        "- OpenAI\n",
        "\n",
        "**Limitation**\n",
        "- Difficulty setting up faiss-gpu in google colab, using faiss-cpu instead.\n",
        "- If GPU-based sentence embeddings is needed, then the sentence-transformer package has worked in other notebooks and could be used here."
      ],
      "metadata": {
        "id": "zavmm4vBZpCO"
      }
    },
    {
      "cell_type": "markdown",
      "source": [
        "## Notebook Setup"
      ],
      "metadata": {
        "id": "JgOvUT87cB9M"
      }
    },
    {
      "cell_type": "code",
      "source": [
        "#!pip install langchain-community unstructured faiss-cpu langchain-openai langchain-huggingface"
      ],
      "metadata": {
        "collapsed": true,
        "id": "1uqr0lGnghiz"
      },
      "execution_count": 9,
      "outputs": []
    },
    {
      "cell_type": "code",
      "source": [
        "!pip list | grep \"langchain\\|langchain-community\\|unstructured\\|faiss-cpu\\|langchain-openai\\|langchain-huggingface\""
      ],
      "metadata": {
        "colab": {
          "base_uri": "https://localhost:8080/"
        },
        "id": "ROVH9G7WcLtf",
        "outputId": "fc903214-d41e-4f4b-aa54-9580fc67dc25"
      },
      "execution_count": 1,
      "outputs": [
        {
          "output_type": "stream",
          "name": "stdout",
          "text": [
            "faiss-cpu                             1.10.0\n",
            "langchain                             0.3.23\n",
            "langchain-community                   0.3.21\n",
            "langchain-core                        0.3.53\n",
            "langchain-huggingface                 0.1.2\n",
            "langchain-openai                      0.3.14\n",
            "langchain-text-splitters              0.3.8\n",
            "unstructured                          0.17.2\n",
            "unstructured-client                   0.32.3\n"
          ]
        }
      ]
    },
    {
      "cell_type": "code",
      "source": [
        "# Setup the Notebook\n",
        "\n",
        "# General\n",
        "from google.colab import userdata\n",
        "import os\n",
        "import json\n",
        "import logging\n",
        "logging.getLogger(\"transformers\").setLevel(logging.WARNING) # Suppress unnecessary logging\n",
        "\n",
        "# Visualization\n",
        "from IPython.core.display import display, HTML\n",
        "import matplotlib.pyplot as plt\n",
        "\n",
        "# Data, Science, & Math\n",
        "import numpy as np\n",
        "import pandas as pd\n",
        "\n",
        "# Machine/Deep Learning\n",
        "import torch\n",
        "\n",
        "# NLP\n",
        "from langchain_huggingface import HuggingFaceEmbeddings\n",
        "from langchain.vectorstores import FAISS\n",
        "from langchain_openai import ChatOpenAI\n",
        "from langchain.chains import RetrievalQA\n",
        "from langchain.document_loaders import UnstructuredURLLoader\n",
        "from langchain.text_splitter import RecursiveCharacterTextSplitter\n",
        "from langchain.callbacks.base import BaseCallbackHandler\n",
        "\n",
        "# Set your OpenAI API Key\n",
        "os.environ[\"OPENAI_API_KEY\"] = userdata.get('OPENAI_API_KEY')"
      ],
      "metadata": {
        "id": "7ibgZRcxdsTt"
      },
      "execution_count": 5,
      "outputs": []
    },
    {
      "cell_type": "markdown",
      "source": [
        "## Arrange Data"
      ],
      "metadata": {
        "id": "FqHIBqLXkIrM"
      }
    },
    {
      "cell_type": "code",
      "source": [
        "# Load a Public Domain woodworking book\n",
        "# \"Mission Furniture: How to Make It, Part 3 by H. H. Windsor\"\n",
        "url_loader = UnstructuredURLLoader([\"https://www.gutenberg.org/cache/epub/23666/pg23666.txt\"])\n",
        "documents = url_loader.load()\n",
        "\n",
        "# Since we passed a single URL we get a single document\n",
        "print(f'Loaded {len(documents)} document')"
      ],
      "metadata": {
        "colab": {
          "base_uri": "https://localhost:8080/"
        },
        "id": "lX5HPRUkkM-n",
        "outputId": "3e64a92f-6552-4ca1-8047-7a9e5d670d85"
      },
      "execution_count": 6,
      "outputs": [
        {
          "output_type": "stream",
          "name": "stdout",
          "text": [
            "Loaded 1 document\n"
          ]
        }
      ]
    },
    {
      "cell_type": "code",
      "source": [
        "# Split into manageable chunks\n",
        "text_splitter = RecursiveCharacterTextSplitter(\n",
        "    chunk_size=500,\n",
        "    chunk_overlap=100\n",
        ")\n",
        "docs = text_splitter.split_documents(documents)\n",
        "\n",
        "# Remove the first 3 documents, they contain Project Guttenberg boilerplate\n",
        "docs = docs[3:]\n",
        "# Additional boilerplate at the end is removed also\n",
        "docs = docs[:307]\n",
        "\n",
        "print(f'{len(documents)} Documents split into {len(docs)} chunks')"
      ],
      "metadata": {
        "colab": {
          "base_uri": "https://localhost:8080/"
        },
        "id": "GppCTi4DoryR",
        "outputId": "be9e3509-2b34-4c33-b716-8af00a3368b4"
      },
      "execution_count": 7,
      "outputs": [
        {
          "output_type": "stream",
          "name": "stdout",
          "text": [
            "1 Documents split into 307 chunks\n"
          ]
        }
      ]
    },
    {
      "cell_type": "markdown",
      "source": [
        "## Create Sentence-based Text Embeddings"
      ],
      "metadata": {
        "id": "KiNAK8C6t0bj"
      }
    },
    {
      "cell_type": "code",
      "source": [
        "# Load the model for creating embeddings\n",
        "embedding_model = HuggingFaceEmbeddings(\n",
        "    model_name=\"sentence-transformers/all-MiniLM-L6-v2\"\n",
        ")\n",
        "\n",
        "# Index the document embeddings with FAISS\n",
        "vectorstore = FAISS.from_documents(docs, embedding_model)"
      ],
      "metadata": {
        "id": "I_buWCYnt_zd"
      },
      "execution_count": 10,
      "outputs": []
    },
    {
      "cell_type": "markdown",
      "source": [
        "## Define the Model"
      ],
      "metadata": {
        "id": "5wyX4HYNuC-n"
      }
    },
    {
      "cell_type": "code",
      "source": [
        "# Create a callback so we can print the final prompt that the RAG\n",
        "# system send to OpenAI based on our questions\n",
        "class PromptPrinter(BaseCallbackHandler):\n",
        "    def on_llm_start(self, serialized, prompts, **kwargs):\n",
        "        print(f\"\\n{'=' * 50}\\nPrompt sent to LLM:\\n\")\n",
        "        for prompt in prompts:\n",
        "            print(prompt)\n",
        "            print(\"—\" * 50)\n",
        "        print(f\"{'=' * 50}\")\n",
        "\n",
        "# Define the search retriever\n",
        "vs_retriever = vectorstore.as_retriever(\n",
        "    search_type=\"similarity\",\n",
        "    search_kwargs={\n",
        "        \"k\": 4, # Number of documents to return\n",
        "        }\n",
        "    )\n",
        "\n",
        "# Initialize OpenAI LLM\n",
        "openai_llm = ChatOpenAI(\n",
        "    temperature=0.2,\n",
        "    model_name=\"gpt-4o-mini\",\n",
        "    callbacks=[PromptPrinter()]\n",
        ")\n",
        "\n",
        "\n",
        "# Create a Retrieval-Augmented QA Chain\n",
        "qa_chain = RetrievalQA.from_chain_type(\n",
        "    llm=openai_llm,\n",
        "    retriever=vs_retriever,\n",
        "    return_source_documents=True\n",
        ")"
      ],
      "metadata": {
        "id": "AhdnTgb1uSjI"
      },
      "execution_count": 12,
      "outputs": []
    },
    {
      "cell_type": "markdown",
      "source": [
        "# Execute - Ask Some Questions"
      ],
      "metadata": {
        "id": "GFaUYnNduaSU"
      }
    },
    {
      "cell_type": "code",
      "execution_count": 13,
      "metadata": {
        "id": "MKhL1BVSZMcO",
        "colab": {
          "base_uri": "https://localhost:8080/"
        },
        "outputId": "3a2b749f-497e-46b2-dbb9-d4c1e3d3073a"
      },
      "outputs": [
        {
          "output_type": "stream",
          "name": "stdout",
          "text": [
            "\n",
            "==================================================\n",
            "Prompt sent to LLM:\n",
            "\n",
            "System: Use the following pieces of context to answer the user's question. \n",
            "If you don't know the answer, just say that you don't know, don't try to make up an answer.\n",
            "----------------\n",
            "[Illustration: Detail of the Card Table]\n",
            "\n",
            "[Illustration: Card Table Ready for Use]\n",
            "\n",
            "There only remains to fit in the shelves and fasten the top and back. The top and back are held with screws as shown in sketch.\n",
            "\n",
            "Taper the keys only slightly, otherwise they will keep working loose.\n",
            "\n",
            "Stain with two coats of weathered oak, give one coat of thin shellac to fix the stain and two coats of wax for a soft-gloss finish.\n",
            "\n",
            "A WRITING DESK\n",
            "\n",
            "Sections Detail of the Bookrack The Complete Bookrack Detail of the Table Table for the Dining-Room Set Armchair of the Dining-Room Set Detail of the Armchair Detail of the Hall Bench Bench Made of Plain Oak Sewing Table in Plain Oak Detail of the Sewing Table Construction of the Drawer Side Chair of Dining-Room Set Detail of the Side Chair Detail of the Piano Bench Piano Bench in Quarter-Sawed Oak Plain-Oak Frame with Burlap Panels Detail of the Frame Detail of the Card Table Card Table Ready\n",
            "\n",
            "Wall Shelf Detail Completed Pedestal Detail of the Pedestal Detail of the Magazine Rack Magazine Rack Complete Detail and Finished View of Hall Tree Table Completed Detail of a Den Table Fig. 1--The Rough Cedar Box Without the Covering Fig. 2--Design of the Covering Strip Put on Over the Burlap Mission Settee Made of Quarter-Sawed Oak Detail of the Oak Settee Detail of One Section Screen of Three Sections Detail of the Bookrack The Complete Bookrack Detail of the Table Table for the Dining-Room\n",
            "Human: What are the key points discussed in the document?\n",
            "——————————————————————————————————————————————————\n",
            "==================================================\n"
          ]
        }
      ],
      "source": [
        "# General Question\n",
        "query = \"What are the key points discussed in the document?\"\n",
        "result = qa_chain.invoke({\"query\": query})"
      ]
    },
    {
      "cell_type": "code",
      "source": [
        "print(\"Question:\")\n",
        "print(query)\n",
        "print(\"\\n Answer:\")\n",
        "display(result[\"result\"])"
      ],
      "metadata": {
        "colab": {
          "base_uri": "https://localhost:8080/",
          "height": 226
        },
        "id": "3crCiIQr77eI",
        "outputId": "ddcbca34-db67-4b7d-dc85-eecea8dc4209"
      },
      "execution_count": 14,
      "outputs": [
        {
          "output_type": "stream",
          "name": "stdout",
          "text": [
            "Question:\n",
            "What are the key points discussed in the document?\n",
            "\n",
            " Answer:\n"
          ]
        },
        {
          "output_type": "display_data",
          "data": {
            "text/plain": [
              "'The document discusses the construction and finishing details of various furniture pieces, including a card table, writing desk, dining room set, armchair, hall bench, sewing table, side chair, piano bench, magazine rack, and a den table. Key points include:\\n\\n1. **Assembly Instructions**: Details on fitting shelves, fastening the top and back with screws, and tapering keys slightly to prevent them from loosening.\\n2. **Finishing Techniques**: Recommendations for staining with weathered oak, applying thin shellac to fix the stain, and using wax for a soft-gloss finish.\\n3. **Illustrations**: Visual details of each furniture piece, highlighting construction and design elements.\\n\\nOverall, the document provides guidance on building and finishing wooden furniture items.'"
            ],
            "application/vnd.google.colaboratory.intrinsic+json": {
              "type": "string"
            }
          },
          "metadata": {}
        }
      ]
    },
    {
      "cell_type": "code",
      "source": [
        "# Specific Question\n",
        "query = \"What is the strongest type of joint to use for a chair?\"\n",
        "result = qa_chain.invoke({\"query\": query})"
      ],
      "metadata": {
        "id": "Y7q1548dZubV",
        "colab": {
          "base_uri": "https://localhost:8080/"
        },
        "outputId": "6d8f009e-1551-4fcf-9ffe-f40b11e38172"
      },
      "execution_count": 15,
      "outputs": [
        {
          "output_type": "stream",
          "name": "stdout",
          "text": [
            "\n",
            "==================================================\n",
            "Prompt sent to LLM:\n",
            "\n",
            "System: Use the following pieces of context to answer the user's question. \n",
            "If you don't know the answer, just say that you don't know, don't try to make up an answer.\n",
            "----------------\n",
            "[Illustration: Arm Chair Complete]\n",
            "\n",
            "[Illustration: Detail of the Arm Chair]\n",
            "\n",
            "A mission arm chair of simple design and construction is shown in the accompanying illustration. This chair is suitable for any room of the house and can be made of wood to match other furniture. Quarter-sawed oak is the wood most generally used, and it is also very easy to obtain. The stock can be ordered from the mill, cut to length, squared and sanded. Following is a list of the material that will be needed:\n",
            "\n",
            "This armchair will look well if made of plain-sawed oak. Quarter-sawed oak might be used, or black walnut if desired. The stock bill specifies the various parts mill-planed to size as far as possible. If some amateur craftsman should prefer to do his own surfacing, thereby saving somewhat on the expense, he should add 1/4 in. to the width of each piece, providing the stock is mill-planed to thickness. It is hardly profitable to get stock entirely in the rough if the work is to be done by hand.\n",
            "\n",
            "A LEATHER BACK ARM CHAIR\n",
            "\n",
            "[Illustration: Arm Chair Complete]\n",
            "\n",
            "[Illustration: Detail of the Arm Chair]\n",
            "\n",
            "[Illustration: Detail of the Side Chair]\n",
            "\n",
            "Place the front and the back in the clamps and after the glue has had time to harden, assemble the remaining parts. Thoroughly scrape and sandpaper all the parts, carefully removing any surplus glue. Wood finish will not \"take hold\" where any glue has been allowed to remain.\n",
            "\n",
            "The seat may be given the same treatment as suggested for the armchair. This should not be done, however, until the finish has been applied.\n",
            "Human: What is the strongest type of joint to use for a chair?\n",
            "——————————————————————————————————————————————————\n",
            "==================================================\n"
          ]
        }
      ]
    },
    {
      "cell_type": "code",
      "source": [
        "print(\"Question:\")\n",
        "print(query)\n",
        "print(\"\\n Answer:\")\n",
        "display(result[\"result\"])"
      ],
      "metadata": {
        "colab": {
          "base_uri": "https://localhost:8080/",
          "height": 105
        },
        "id": "XmRHnD-g8CZa",
        "outputId": "1f9808d2-d6a7-4506-90f2-6e519aca18e1"
      },
      "execution_count": 16,
      "outputs": [
        {
          "output_type": "stream",
          "name": "stdout",
          "text": [
            "Question:\n",
            "What is the strongest type of joint to use for a chair?\n",
            "\n",
            " Answer:\n"
          ]
        },
        {
          "output_type": "display_data",
          "data": {
            "text/plain": [
              "\"I don't know.\""
            ],
            "application/vnd.google.colaboratory.intrinsic+json": {
              "type": "string"
            }
          },
          "metadata": {}
        }
      ]
    },
    {
      "cell_type": "code",
      "source": [
        "# Specific Question 2\n",
        "query = \"What is the best wood to use for making a table?\"\n",
        "result = qa_chain.invoke({\"query\": query})"
      ],
      "metadata": {
        "colab": {
          "base_uri": "https://localhost:8080/"
        },
        "id": "DGdAflDp7FLb",
        "outputId": "63c3b726-bb2e-4eaa-ae7f-7777a70e0347"
      },
      "execution_count": 17,
      "outputs": [
        {
          "output_type": "stream",
          "name": "stdout",
          "text": [
            "\n",
            "==================================================\n",
            "Prompt sent to LLM:\n",
            "\n",
            "System: Use the following pieces of context to answer the user's question. \n",
            "If you don't know the answer, just say that you don't know, don't try to make up an answer.\n",
            "----------------\n",
            "The accompanying cut shows a magazine rack that will find favor with many amateur wood-workers on account of its simplicity in design and its rich, massive appearance when properly finished. It is so constructed that each piece may be polished, stained and finished before it is finally put together. Quarter-sawed oak is the best wood to use. Plain-sawed oak looks well, but it is more liable to warp than quarter-sawed and this is quite an element in pieces as wide as the ones here used.\n",
            "\n",
            "A PLATE RACK FOR THE DINING ROOM\n",
            "\n",
            "This plate rack can be made of any kind of wood and finished to match other pieces of furniture in the room, but as it is of mission design, oak is the most suitable lumber, as it takes the mission stain so nicely.\n",
            "\n",
            "The material required is as follows:\n",
            "\n",
            "A WALL SHELF\n",
            "\n",
            "Coarse-grained woods make up into furniture and take a more satisfactory finish than close-grained woods. For this reason chestnut or oak is suggested for this shelf. Chestnut has a beautiful grain and is soft and easily worked.\n",
            "\n",
            "There will be needed the following pieces:\n",
            "\n",
            "AN OAK SERVING TABLE\n",
            "\n",
            "The serving table is another useful piece of furniture that can be made in mission style. This table should be made in quarter-sawed oak and stained very light. The stock order is as follows:\n",
            "Human: What is the best wood to use for making a table?\n",
            "——————————————————————————————————————————————————\n",
            "==================================================\n"
          ]
        }
      ]
    },
    {
      "cell_type": "code",
      "source": [
        "print(\"Question:\")\n",
        "print(query)\n",
        "print(\"\\n Answer:\")\n",
        "display(result[\"result\"])"
      ],
      "metadata": {
        "colab": {
          "base_uri": "https://localhost:8080/",
          "height": 122
        },
        "id": "2nIgvKXu8N9_",
        "outputId": "96761a10-afe2-4ee0-d9c3-f7dc42b6d2c1"
      },
      "execution_count": 18,
      "outputs": [
        {
          "output_type": "stream",
          "name": "stdout",
          "text": [
            "Question:\n",
            "What is the best wood to use for making a table?\n",
            "\n",
            " Answer:\n"
          ]
        },
        {
          "output_type": "display_data",
          "data": {
            "text/plain": [
              "'The best wood to use for making a table, especially in mission style, is quarter-sawed oak. It is recommended for its durability and ability to take a stain nicely.'"
            ],
            "application/vnd.google.colaboratory.intrinsic+json": {
              "type": "string"
            }
          },
          "metadata": {}
        }
      ]
    },
    {
      "cell_type": "code",
      "source": [
        "result"
      ],
      "metadata": {
        "colab": {
          "base_uri": "https://localhost:8080/"
        },
        "id": "gCPuzSz17Qnc",
        "outputId": "a182c38c-33b1-4142-a56e-b81a6ae58b4b"
      },
      "execution_count": 19,
      "outputs": [
        {
          "output_type": "execute_result",
          "data": {
            "text/plain": [
              "{'query': 'What is the best wood to use for making a table?',\n",
              " 'result': 'The best wood to use for making a table, especially in mission style, is quarter-sawed oak. It is recommended for its durability and ability to take a stain nicely.',\n",
              " 'source_documents': [Document(id='e5ad7e2b-5acd-4135-97a2-11179b02077b', metadata={'source': 'https://www.gutenberg.org/cache/epub/23666/pg23666.txt'}, page_content='The accompanying cut shows a magazine rack that will find favor with many amateur wood-workers on account of its simplicity in design and its rich, massive appearance when properly finished. It is so constructed that each piece may be polished, stained and finished before it is finally put together. Quarter-sawed oak is the best wood to use. Plain-sawed oak looks well, but it is more liable to warp than quarter-sawed and this is quite an element in pieces as wide as the ones here used.'),\n",
              "  Document(id='141ff81c-7598-4001-9ab0-6fa68f779b82', metadata={'source': 'https://www.gutenberg.org/cache/epub/23666/pg23666.txt'}, page_content='A PLATE RACK FOR THE DINING ROOM\\n\\nThis plate rack can be made of any kind of wood and finished to match other pieces of furniture in the room, but as it is of mission design, oak is the most suitable lumber, as it takes the mission stain so nicely.\\n\\nThe material required is as follows:'),\n",
              "  Document(id='92f410d7-ae19-4d8a-82bf-f98fac31106a', metadata={'source': 'https://www.gutenberg.org/cache/epub/23666/pg23666.txt'}, page_content='A WALL SHELF\\n\\nCoarse-grained woods make up into furniture and take a more satisfactory finish than close-grained woods. For this reason chestnut or oak is suggested for this shelf. Chestnut has a beautiful grain and is soft and easily worked.\\n\\nThere will be needed the following pieces:'),\n",
              "  Document(id='28e1033f-667e-49f6-89d7-6ef357594f9a', metadata={'source': 'https://www.gutenberg.org/cache/epub/23666/pg23666.txt'}, page_content='AN OAK SERVING TABLE\\n\\nThe serving table is another useful piece of furniture that can be made in mission style. This table should be made in quarter-sawed oak and stained very light. The stock order is as follows:')]}"
            ]
          },
          "metadata": {},
          "execution_count": 19
        }
      ]
    },
    {
      "cell_type": "code",
      "source": [],
      "metadata": {
        "id": "ziPPSa7G7YdD"
      },
      "execution_count": null,
      "outputs": []
    }
  ]
}