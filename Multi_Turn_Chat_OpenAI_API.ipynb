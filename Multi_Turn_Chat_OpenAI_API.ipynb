{
  "nbformat": 4,
  "nbformat_minor": 0,
  "metadata": {
    "colab": {
      "provenance": [],
      "authorship_tag": "ABX9TyPF1u1a9lnKbYdQZhQznZPG"
    },
    "kernelspec": {
      "name": "python3",
      "display_name": "Python 3"
    },
    "language_info": {
      "name": "python"
    },
    "widgets": {
      "application/vnd.jupyter.widget-state+json": {
        "864ef9b6c09340008c671a864f2609ab": {
          "model_module": "@jupyter-widgets/controls",
          "model_name": "VBoxModel",
          "model_module_version": "1.5.0",
          "state": {
            "_dom_classes": [],
            "_model_module": "@jupyter-widgets/controls",
            "_model_module_version": "1.5.0",
            "_model_name": "VBoxModel",
            "_view_count": null,
            "_view_module": "@jupyter-widgets/controls",
            "_view_module_version": "1.5.0",
            "_view_name": "VBoxView",
            "box_style": "",
            "children": [
              "IPY_MODEL_df7b530210434737afa68428fc3be8ba",
              "IPY_MODEL_b2ad64617ab049079b79f2cc64b12dd3"
            ],
            "layout": "IPY_MODEL_8f2c40d26b4f405887bdcf0057c7bfac"
          }
        },
        "df7b530210434737afa68428fc3be8ba": {
          "model_module": "@jupyter-widgets/output",
          "model_name": "OutputModel",
          "model_module_version": "1.0.0",
          "state": {
            "_dom_classes": [],
            "_model_module": "@jupyter-widgets/output",
            "_model_module_version": "1.0.0",
            "_model_name": "OutputModel",
            "_view_count": null,
            "_view_module": "@jupyter-widgets/output",
            "_view_module_version": "1.0.0",
            "_view_name": "OutputView",
            "layout": "IPY_MODEL_c3d7bf81581141d3a5e42081e88e433e",
            "msg_id": "",
            "outputs": [
              {
                "output_type": "display_data",
                "data": {
                  "text/plain": "<IPython.core.display.Markdown object>",
                  "text/markdown": "###SYSTEM\n---\nYou are an experienced music teach with strong expertise in classical guitar performance"
                },
                "metadata": {}
              },
              {
                "output_type": "display_data",
                "data": {
                  "text/plain": "<IPython.core.display.Markdown object>",
                  "text/markdown": "###USER\n---\nnails"
                },
                "metadata": {}
              },
              {
                "output_type": "display_data",
                "data": {
                  "text/plain": "<IPython.core.display.Markdown object>",
                  "text/markdown": "###ASSISTANT\n---\nNails play a crucial role in classical guitar performance, especially for fingerstyle playing. Here are some key points regarding the use of nails:\n\n### 1. **Importance of Nails:**\n   - **Sound Production:** The shape and strength of your nails can significantly affect tone quality and projection. Well-shaped and properly maintained nails can produce a bright, clear sound.\n   - **Technique Enhancement:** Nails help in executing techniques like arpeggios, tremolos, and scales with precision.\n\n### 2. **Nail Care:**\n   - **Maintenance:** Keeping nails trimmed, shaped, and smooth is essential. Use a fine nail file to ensure a good shape—typically a slight curve that mimics the fingertip.\n   - **Strengthening:** Some players choose to apply products like nail strengtheners to prevent breakage. A healthy diet can also contribute to stronger nails.\n\n### 3. **Nail Shapes:**\n   - Common shapes include rounded, pointed, or a soft oval shape. The choice often depends on personal preference and playing style.\n   - It’s important to experiment to find the shape that works best for you.\n\n### 4. **Playing Techniques:**\n   - **Using the Flesh vs. Nails:** Different techniques might call for using the flesh of the fingers or the nails. For instance, softer passages may benefit from flesh, while louder passages may require the nail for added clarity and brightness.\n   - **Finger Positioning:** The angle at which you strike the strings (using the nails) is essential for producing a good tone. \n\n### 5. **Common Issues:**\n   - **Breakage:** Nails can chip or break easily, especially during vigorous practice or performance. Having a backup plan, such as using a fingerpick or adjusting the techniques used, can be beneficial.\n   - **Development of Calluses:** With regular playing, fingertips will develop calluses which can influence how you perceive the tone and vibrations of the guitar.\n\n### 6. **Alternatives:**\n   - Some classical guitarists prefer to use fingerpicks or artificial nails if they have difficulty maintaining natural nails.\n\nUltimately, finding the right balance and care routine for your nails is a personal journey in classical guitar playing. Regular practice and attention to your nails and technique will lead to a more fulfilling and fulfilling musical experience!"
                },
                "metadata": {}
              },
              {
                "output_type": "display_data",
                "data": {
                  "text/plain": "<IPython.core.display.Markdown object>",
                  "text/markdown": "###USER\n---\nMy barre chords are buzzing"
                },
                "metadata": {}
              },
              {
                "output_type": "display_data",
                "data": {
                  "text/plain": "<IPython.core.display.Markdown object>",
                  "text/markdown": "###ASSISTANT\n---\nBuzzing in barre chords is a common issue that many guitarists encounter, and it can stem from various factors. Here are some strategies to diagnose and resolve the problem:\n\n### 1. **Check Finger Placement:**\n   - **Positioning:** Ensure that your index finger is pressing down all the strings evenly. It should be placed just behind the fret, not on top of it, to avoid buzzing.\n   - **Pressure:** Use enough pressure with your index finger to mute all the strings beneath it. If one or more strings are not pressed down firmly enough, they may buzz.\n\n### 2. **Finger Angle and Curvature:**\n   - **Fingertip Contact:** Make sure your finger is straight and pressing down with the fingertip, rather than at an awkward angle.\n   - **Curvature:** Position your other fingers correctly on the fretboard, forming an arch. This can help with the positioning of your index finger.\n\n### 3. **Guitar Setup:**\n   - **Action Height:** If the action (the height of the strings above the fretboard) is too low, it can lead to buzzing. Consider having your guitar professionally set up with appropriate action.\n   - **Nut and Saddle:** Ensure that the nut and saddle are at the right height. Problems here can contribute to buzzing in certain chord shapes.\n\n### 4. **Fretting Technique:**\n   - **Arm Position:** Check your overall posture and how your arm is positioned. Poor technique can make it difficult to apply the right amount of pressure.\n   - **Strengthening:** Work on building finger strength and dexterity, as this will help you press down the strings more effectively.\n\n### 5. **Tuning and Intonation:**\n   - **Tuning:** Ensure your guitar is in tune, as incorrect tuning can sometimes cause notes to buzz differently.\n   - **Intonation:** A guitar with poor intonation might also lead to buzzing in certain frets or chords.\n\n### 6. **Practice Slowly:**\n   - Work on barre chords slowly, focusing on pressing each string down firmly enough to produce a clean sound. Gradually increase your speed as you gain confidence.\n\n### 7. **Regular Practice:**\n   - Barre chords can be challenging, especially for beginners. Consistent practice will help improve technique and comfort levels with these chords.\n\n### 8. **Consider Alternative Techniques:**\n   - If you're having persistent trouble with barre chords, try using partial barre chords or exploring alternative fingerings for the chords you're playing.\n\nIf you've tried these adjustments and still experience buzzing, it may be helpful to have a professional technician examine your guitar. They can provide insights and make necessary adjustments to improve playability."
                },
                "metadata": {}
              }
            ]
          }
        },
        "b2ad64617ab049079b79f2cc64b12dd3": {
          "model_module": "@jupyter-widgets/controls",
          "model_name": "HBoxModel",
          "model_module_version": "1.5.0",
          "state": {
            "_dom_classes": [],
            "_model_module": "@jupyter-widgets/controls",
            "_model_module_version": "1.5.0",
            "_model_name": "HBoxModel",
            "_view_count": null,
            "_view_module": "@jupyter-widgets/controls",
            "_view_module_version": "1.5.0",
            "_view_name": "HBoxView",
            "box_style": "",
            "children": [
              "IPY_MODEL_fa0454c5f5394770840c1cb6936612ea"
            ],
            "layout": "IPY_MODEL_9ede6d01e1f9449e9964878602d232b0"
          }
        },
        "8f2c40d26b4f405887bdcf0057c7bfac": {
          "model_module": "@jupyter-widgets/base",
          "model_name": "LayoutModel",
          "model_module_version": "1.2.0",
          "state": {
            "_model_module": "@jupyter-widgets/base",
            "_model_module_version": "1.2.0",
            "_model_name": "LayoutModel",
            "_view_count": null,
            "_view_module": "@jupyter-widgets/base",
            "_view_module_version": "1.2.0",
            "_view_name": "LayoutView",
            "align_content": null,
            "align_items": null,
            "align_self": null,
            "border": null,
            "bottom": null,
            "display": null,
            "flex": null,
            "flex_flow": null,
            "grid_area": null,
            "grid_auto_columns": null,
            "grid_auto_flow": null,
            "grid_auto_rows": null,
            "grid_column": null,
            "grid_gap": null,
            "grid_row": null,
            "grid_template_areas": null,
            "grid_template_columns": null,
            "grid_template_rows": null,
            "height": null,
            "justify_content": null,
            "justify_items": null,
            "left": null,
            "margin": null,
            "max_height": null,
            "max_width": null,
            "min_height": null,
            "min_width": null,
            "object_fit": null,
            "object_position": null,
            "order": null,
            "overflow": null,
            "overflow_x": null,
            "overflow_y": null,
            "padding": null,
            "right": null,
            "top": null,
            "visibility": null,
            "width": null
          }
        },
        "fa0454c5f5394770840c1cb6936612ea": {
          "model_module": "@jupyter-widgets/controls",
          "model_name": "TextModel",
          "model_module_version": "1.5.0",
          "state": {
            "_dom_classes": [],
            "_model_module": "@jupyter-widgets/controls",
            "_model_module_version": "1.5.0",
            "_model_name": "TextModel",
            "_view_count": null,
            "_view_module": "@jupyter-widgets/controls",
            "_view_module_version": "1.5.0",
            "_view_name": "TextView",
            "continuous_update": true,
            "description": "You:",
            "description_tooltip": null,
            "disabled": false,
            "layout": "IPY_MODEL_44c005dd68e74fcb9fb8f73bbb211b3f",
            "placeholder": "Ask a quesion ...",
            "style": "IPY_MODEL_d282a22208834fa6b254cb6cae6ef4ec",
            "value": ""
          }
        },
        "9ede6d01e1f9449e9964878602d232b0": {
          "model_module": "@jupyter-widgets/base",
          "model_name": "LayoutModel",
          "model_module_version": "1.2.0",
          "state": {
            "_model_module": "@jupyter-widgets/base",
            "_model_module_version": "1.2.0",
            "_model_name": "LayoutModel",
            "_view_count": null,
            "_view_module": "@jupyter-widgets/base",
            "_view_module_version": "1.2.0",
            "_view_name": "LayoutView",
            "align_content": null,
            "align_items": null,
            "align_self": null,
            "border": null,
            "bottom": null,
            "display": null,
            "flex": null,
            "flex_flow": null,
            "grid_area": null,
            "grid_auto_columns": null,
            "grid_auto_flow": null,
            "grid_auto_rows": null,
            "grid_column": null,
            "grid_gap": null,
            "grid_row": null,
            "grid_template_areas": null,
            "grid_template_columns": null,
            "grid_template_rows": null,
            "height": null,
            "justify_content": null,
            "justify_items": null,
            "left": null,
            "margin": null,
            "max_height": null,
            "max_width": null,
            "min_height": null,
            "min_width": null,
            "object_fit": null,
            "object_position": null,
            "order": null,
            "overflow": null,
            "overflow_x": null,
            "overflow_y": null,
            "padding": null,
            "right": null,
            "top": null,
            "visibility": null,
            "width": null
          }
        },
        "44c005dd68e74fcb9fb8f73bbb211b3f": {
          "model_module": "@jupyter-widgets/base",
          "model_name": "LayoutModel",
          "model_module_version": "1.2.0",
          "state": {
            "_model_module": "@jupyter-widgets/base",
            "_model_module_version": "1.2.0",
            "_model_name": "LayoutModel",
            "_view_count": null,
            "_view_module": "@jupyter-widgets/base",
            "_view_module_version": "1.2.0",
            "_view_name": "LayoutView",
            "align_content": null,
            "align_items": null,
            "align_self": null,
            "border": null,
            "bottom": null,
            "display": null,
            "flex": null,
            "flex_flow": null,
            "grid_area": null,
            "grid_auto_columns": null,
            "grid_auto_flow": null,
            "grid_auto_rows": null,
            "grid_column": null,
            "grid_gap": null,
            "grid_row": null,
            "grid_template_areas": null,
            "grid_template_columns": null,
            "grid_template_rows": null,
            "height": null,
            "justify_content": null,
            "justify_items": null,
            "left": null,
            "margin": null,
            "max_height": null,
            "max_width": null,
            "min_height": null,
            "min_width": null,
            "object_fit": null,
            "object_position": null,
            "order": null,
            "overflow": null,
            "overflow_x": null,
            "overflow_y": null,
            "padding": null,
            "right": null,
            "top": null,
            "visibility": null,
            "width": "600px"
          }
        },
        "d282a22208834fa6b254cb6cae6ef4ec": {
          "model_module": "@jupyter-widgets/controls",
          "model_name": "DescriptionStyleModel",
          "model_module_version": "1.5.0",
          "state": {
            "_model_module": "@jupyter-widgets/controls",
            "_model_module_version": "1.5.0",
            "_model_name": "DescriptionStyleModel",
            "_view_count": null,
            "_view_module": "@jupyter-widgets/base",
            "_view_module_version": "1.2.0",
            "_view_name": "StyleView",
            "description_width": ""
          }
        },
        "c3d7bf81581141d3a5e42081e88e433e": {
          "model_module": "@jupyter-widgets/base",
          "model_name": "LayoutModel",
          "model_module_version": "1.2.0",
          "state": {
            "_model_module": "@jupyter-widgets/base",
            "_model_module_version": "1.2.0",
            "_model_name": "LayoutModel",
            "_view_count": null,
            "_view_module": "@jupyter-widgets/base",
            "_view_module_version": "1.2.0",
            "_view_name": "LayoutView",
            "align_content": null,
            "align_items": null,
            "align_self": null,
            "border": "1px solid black",
            "bottom": null,
            "display": null,
            "flex": null,
            "flex_flow": null,
            "grid_area": null,
            "grid_auto_columns": null,
            "grid_auto_flow": null,
            "grid_auto_rows": null,
            "grid_column": null,
            "grid_gap": null,
            "grid_row": null,
            "grid_template_areas": null,
            "grid_template_columns": null,
            "grid_template_rows": null,
            "height": "300px",
            "justify_content": null,
            "justify_items": null,
            "left": null,
            "margin": null,
            "max_height": null,
            "max_width": null,
            "min_height": null,
            "min_width": null,
            "object_fit": null,
            "object_position": null,
            "order": null,
            "overflow": null,
            "overflow_x": null,
            "overflow_y": "auto",
            "padding": null,
            "right": null,
            "top": null,
            "visibility": null,
            "width": null
          }
        }
      }
    }
  },
  "cells": [
    {
      "cell_type": "code",
      "source": [
        "# Notebook: RAG with LangChain FAISS OpenAI\n",
        "# Author: Thomas Purk\n",
        "# Date: 2025-04-15\n",
        "# Reference: https://platform.openai.com/docs/guides/conversation-state?api-mode=responses"
      ],
      "metadata": {
        "id": "TvskJiiaUWyU"
      },
      "execution_count": null,
      "outputs": []
    },
    {
      "cell_type": "markdown",
      "source": [
        "# Multi-Turn Chat OpenAI API\n",
        "\n",
        "Demonstrate multiple questions and response interation between a user and an LLM."
      ],
      "metadata": {
        "id": "gX4av0cMWaHl"
      }
    },
    {
      "cell_type": "markdown",
      "source": [
        "## Notebook Setup"
      ],
      "metadata": {
        "id": "R1ZZ8wsgWwER"
      }
    },
    {
      "cell_type": "code",
      "execution_count": 1,
      "metadata": {
        "colab": {
          "base_uri": "https://localhost:8080/"
        },
        "id": "-m5UqGlYcZT6",
        "outputId": "8df9b6ca-b4e3-459a-e222-b5cb0f8bc59c"
      },
      "outputs": [
        {
          "output_type": "stream",
          "name": "stdout",
          "text": [
            "openai                                1.72.0\n"
          ]
        }
      ],
      "source": [
        "!pip list | grep openai"
      ]
    },
    {
      "cell_type": "code",
      "source": [
        "# Setup the Notebook\n",
        "\n",
        "# General\n",
        "from google.colab import userdata\n",
        "import openai\n",
        "\n",
        "# User Inteface\n",
        "import ipywidgets as widgets\n",
        "from IPython.display import display, Markdown, clear_output\n",
        "\n",
        "# Load the OpenAI key from Colab\"s Secrets\n",
        "openai.api_key = userdata.get(\"OPENAI_API_KEY\")\n",
        "\n",
        "# Specify which OpenAI model to user\n",
        "model_name = \"gpt-4o-mini\""
      ],
      "metadata": {
        "id": "Uq-ML3eaddCq"
      },
      "execution_count": 39,
      "outputs": []
    },
    {
      "cell_type": "markdown",
      "source": [
        "## Chat logic"
      ],
      "metadata": {
        "id": "nxYRlMhKXOTA"
      }
    },
    {
      "cell_type": "code",
      "source": [
        "# Define chat functions\n",
        "\n",
        "def ask_chatbot(user_input):\n",
        "    \"\"\" Wrapper function around OpenAI\"s chat completions framework. Adds each\n",
        "        user and LLM text to the conversations variable,\n",
        "\n",
        "        Parameters:\n",
        "            user_input (str): Contains the user\"s prompt for the LLM.\n",
        "\n",
        "        Returns:\n",
        "            str: The LLM\"s text response.\n",
        "\n",
        "    \"\"\"\n",
        "\n",
        "    # Append user message\n",
        "    conversation.append({\"role\": \"user\", \"content\": user_input})\n",
        "\n",
        "    # Get response from OpenAI\n",
        "    response = openai.chat.completions.create(\n",
        "        model=model_name,\n",
        "        messages=conversation\n",
        "    )\n",
        "\n",
        "    reply = response.choices[0].message.content\n",
        "\n",
        "    # Append assistant reply to conversation\n",
        "    conversation.append({\"role\": \"assistant\", \"content\": reply})\n",
        "\n",
        "    return reply\n",
        "\n",
        "def on_user_input(submit):\n",
        "    \"\"\" Event handler for binding to the prompt entry text input on the\n",
        "        user interface.\n",
        "\n",
        "        Parameters:\n",
        "            submit (ipywidgets.widgets.widget_string.Text): Event data.\n",
        "\n",
        "    \"\"\"\n",
        "\n",
        "    # Disable controls while waiting for chat repsonse\n",
        "    text_input.disabled = True\n",
        "    with chat_history:\n",
        "        clear_output()\n",
        "        print(\"Waiting for Chat Response . . .\")\n",
        "\n",
        "    # Submit the User Prompt\n",
        "    reply = ask_chatbot(submit.value)\n",
        "\n",
        "    # Clear the input/output controls and print the repsonse\n",
        "    submit.value = \"\"\n",
        "    with chat_history:\n",
        "        clear_output(wait=True)\n",
        "        for item in conversation:\n",
        "            display(Markdown(f\"###{item['role'].upper()}\\n---\\n{item['content']}\"))\n",
        "\n",
        "    # The system is now ready for another user prompt\n",
        "    text_input.disabled = False"
      ],
      "metadata": {
        "id": "aQw1y6Nhej7J"
      },
      "execution_count": 50,
      "outputs": []
    },
    {
      "cell_type": "code",
      "source": [
        "# Create the user interface with ipwidgets\n",
        "\n",
        "# Track the conversation\n",
        "conversation = [\n",
        "    {\n",
        "        \"role\":\"system\", \"content\":\"You are an experienced music teach with strong expertise in classical guitar performance\"\n",
        "    }\n",
        "]\n",
        "\n",
        "# Create the widget to capture the users question\n",
        "text_input = widgets.Text(\n",
        "    placeholder=\"Ask a quesion ...\",\n",
        "    description=\"You:\",\n",
        "    layout=widgets.Layout(width=\"600px\")\n",
        ")\n",
        "\n",
        "# Create the widget to show the history of chats\n",
        "chat_history = widgets.Output(\n",
        "    layout={\"border\": \"1px solid black\", \"height\": \"300px\", \"overflow_y\": \"auto\"}\n",
        ")\n",
        "\n",
        "# Bind the callback to the user interface widget\n",
        "text_input.on_submit(on_user_input)\n",
        "\n",
        "#\n",
        "chat_ui = widgets.VBox([chat_history, widgets.HBox([text_input])])\n",
        "display(chat_ui)"
      ],
      "metadata": {
        "colab": {
          "base_uri": "https://localhost:8080/",
          "height": 351,
          "referenced_widgets": [
            "864ef9b6c09340008c671a864f2609ab",
            "df7b530210434737afa68428fc3be8ba",
            "b2ad64617ab049079b79f2cc64b12dd3",
            "8f2c40d26b4f405887bdcf0057c7bfac",
            "fa0454c5f5394770840c1cb6936612ea",
            "9ede6d01e1f9449e9964878602d232b0",
            "44c005dd68e74fcb9fb8f73bbb211b3f",
            "d282a22208834fa6b254cb6cae6ef4ec",
            "c3d7bf81581141d3a5e42081e88e433e"
          ]
        },
        "id": "6ZfLOPTRq5LF",
        "outputId": "d50b5366-e17d-4015-d039-7eb26593f631"
      },
      "execution_count": 51,
      "outputs": [
        {
          "output_type": "display_data",
          "data": {
            "text/plain": [
              "VBox(children=(Output(layout=Layout(border='1px solid black', height='300px', overflow_y='auto')), HBox(childr…"
            ],
            "application/vnd.jupyter.widget-view+json": {
              "version_major": 2,
              "version_minor": 0,
              "model_id": "864ef9b6c09340008c671a864f2609ab"
            }
          },
          "metadata": {}
        }
      ]
    },
    {
      "cell_type": "code",
      "source": [],
      "metadata": {
        "id": "6V5eTnxQc-CV"
      },
      "execution_count": null,
      "outputs": []
    }
  ]
}