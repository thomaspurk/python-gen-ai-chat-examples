{
  "nbformat": 4,
  "nbformat_minor": 0,
  "metadata": {
    "colab": {
      "provenance": [],
      "authorship_tag": "ABX9TyPF1u1a9lnKbYdQZhQznZPG",
      "include_colab_link": true
    },
    "kernelspec": {
      "name": "python3",
      "display_name": "Python 3"
    },
    "language_info": {
      "name": "python"
    },
    "widgets": {
      "application/vnd.jupyter.widget-state+json": {
        "1659f8e2a9e74e9bb071d0ec242c2955": {
          "model_module": "@jupyter-widgets/controls",
          "model_name": "VBoxModel",
          "model_module_version": "1.5.0",
          "state": {
            "_dom_classes": [],
            "_model_module": "@jupyter-widgets/controls",
            "_model_module_version": "1.5.0",
            "_model_name": "VBoxModel",
            "_view_count": null,
            "_view_module": "@jupyter-widgets/controls",
            "_view_module_version": "1.5.0",
            "_view_name": "VBoxView",
            "box_style": "",
            "children": [
              "IPY_MODEL_58fc0c6ac6ac4652931391e509844125",
              "IPY_MODEL_a288833acb684e89b08430b27619cec2"
            ],
            "layout": "IPY_MODEL_992c9b0e12df4e1f909a0f5b7cc80055"
          }
        },
        "58fc0c6ac6ac4652931391e509844125": {
          "model_module": "@jupyter-widgets/output",
          "model_name": "OutputModel",
          "model_module_version": "1.0.0",
          "state": {
            "_dom_classes": [],
            "_model_module": "@jupyter-widgets/output",
            "_model_module_version": "1.0.0",
            "_model_name": "OutputModel",
            "_view_count": null,
            "_view_module": "@jupyter-widgets/output",
            "_view_module_version": "1.0.0",
            "_view_name": "OutputView",
            "layout": "IPY_MODEL_059365adcd75452d879d257fea0e76cb",
            "msg_id": "",
            "outputs": [
              {
                "output_type": "display_data",
                "data": {
                  "text/plain": "<IPython.core.display.Markdown object>",
                  "text/markdown": "###SYSTEM\n---\nYou are an experienced music teach with strong expertise in classical guitar performance"
                },
                "metadata": {}
              },
              {
                "output_type": "display_data",
                "data": {
                  "text/plain": "<IPython.core.display.Markdown object>",
                  "text/markdown": "###USER\n---\nhow should I shape my nails on my right hand"
                },
                "metadata": {}
              },
              {
                "output_type": "display_data",
                "data": {
                  "text/plain": "<IPython.core.display.Markdown object>",
                  "text/markdown": "###ASSISTANT\n---\nShaping your nails for classical guitar playing is an important aspect of ensuring a good sound quality and technique. Here are some tips on how to shape your right-hand nails:\n\n1. **Shape**: Aim for a slightly rounded shape, similar to the shape of a \"C.\" This shape helps create a smoother attack when you pluck the strings. You can achieve this by using a fine nail file. Avoid sharp edges, as these can cause unwanted clicks and be more prone to chipping.\n\n2. **Length**: Your nails should be long enough to reach the strings comfortably, but not so long that they interfere with your finger's control or get in the way of your plucking motion. Many classical guitarists prefer a nail length that allows the tip of the finger to just barely touch the string below the nail. \n\n3. **Angle**: The angle of your nails is crucial. You might want your nails to touch the strings at a slight angle, allowing for a combination of nail and flesh to strike the string for a warmer tone. \n\n4. **Surface**: Keep the nail surface smooth. You can use a fine-grit file or buffer to smooth any ridges, which can help produce a cleaner sound.\n\n5. **Maintenance**: Regularly check and maintain your nails, as they can wear down or break unevenly due to playing and everyday activities. \n\n6. **Experiment**: Everyone's hands and playing style are different, so be willing to adjust the shape and length until you find what works best for you. If you're finding it difficult to get the sound you want, it might be worth consulting with a teacher for personalized advice.\n\n7. **Protection**: If you're concerned about your nails breaking, consider using a nail strengthener, but be cautious with products that may affect the tone.\n\nRemember, the goal of nail shaping is to enable control and a pleasant tone while playing. Regular practice with your shaped nails will help you find the right technique and sound."
                },
                "metadata": {}
              },
              {
                "output_type": "display_data",
                "data": {
                  "text/plain": "<IPython.core.display.Markdown object>",
                  "text/markdown": "###USER\n---\nMy barre chords are buzzing, how can I fix the problem."
                },
                "metadata": {}
              },
              {
                "output_type": "display_data",
                "data": {
                  "text/plain": "<IPython.core.display.Markdown object>",
                  "text/markdown": "###ASSISTANT\n---\nBuzzing in barre chords can be frustrating, but it’s a common issue that can often be resolved with a few adjustments to your technique or guitar setup. Here are some strategies to help you eliminate buzzing in barre chords:\n\n### 1. **Finger Placement**:\n   - **Positioning**: Ensure that your index finger, which is barring the chords, is positioned correctly. It should be flat and pressing down evenly across all the strings. Try to keep your finger as close to the fret as possible without being on top of it.\n   - **Pressure**: Apply enough pressure with your index finger. If you're pressing too lightly, some strings may not be fretted properly, which can cause buzzing.\n\n### 2. **Finger Strength and Technique**:\n   - **Strength**: Building strength in your fretting fingers can help. Practice pressing down on the strings more firmly with all your fingers.\n   - **Arch**: Ensure that your other fingers (which are forming the chord) are arched correctly so that they don't inadvertently mute strings beneath them.\n\n### 3. **Chord Shape**:\n   - Some barre chords can be difficult, especially if they involve awkward finger placements that can inadvertently mute strings. Spend time practicing the specific shapes to find the most comfortable positioning.\n   - **Transitioning**: Practice transitioning into barre chords from other chord shapes to build familiarity and confidence.\n\n### 4. **Guitar Setup**:\n   - **Action**: If your guitar’s action (the distance between the strings and the fretboard) is too high, it can be harder to press down the strings firmly enough without buzzing. A professional setup can address this issue.\n   - **Fret Condition**: Check that your frets are in good condition. If they are worn or uneven, they can cause buzzing, and you might need a fret leveling.\n   - **Nut and Saddle Height**: If these components are too high or too low, it can affect the action and contribute to buzzing.\n\n### 5. **Tuning**:\n   - Ensure your guitar is in tune. Sometimes, if certain strings are out of tune, it can cause discrepancies in how they resonate, leading to perceptions of buzzing.\n\n### 6. **Practice Slowly**:\n   - When learning barre chords, practice slowly at first. Focus on clarity and stability rather than speed. This can help reinforce good habits.\n\n### 7. **Consult a Technician**:\n   - If you've tried these suggestions and buzzing persists, consider consulting a guitar technician. They can assess the instrument and make repairs or adjustments as needed.\n\n### 8. **Use a Capo**: \n   - If you're still struggling, practicing your barre chords with a capo on a higher fret can loosen string tension and make it easier to build strength and technique without buzzing. \n\nWith consistent practice and attention to these details, you should be able to significantly reduce or eliminate buzzing in your barre chords."
                },
                "metadata": {}
              }
            ]
          }
        },
        "a288833acb684e89b08430b27619cec2": {
          "model_module": "@jupyter-widgets/controls",
          "model_name": "HBoxModel",
          "model_module_version": "1.5.0",
          "state": {
            "_dom_classes": [],
            "_model_module": "@jupyter-widgets/controls",
            "_model_module_version": "1.5.0",
            "_model_name": "HBoxModel",
            "_view_count": null,
            "_view_module": "@jupyter-widgets/controls",
            "_view_module_version": "1.5.0",
            "_view_name": "HBoxView",
            "box_style": "",
            "children": [
              "IPY_MODEL_d7517aa42002497f85b117bdd5b78b9d"
            ],
            "layout": "IPY_MODEL_e41e8ea2195b4ad8a0190d5d4c8eeb42"
          }
        },
        "992c9b0e12df4e1f909a0f5b7cc80055": {
          "model_module": "@jupyter-widgets/base",
          "model_name": "LayoutModel",
          "model_module_version": "1.2.0",
          "state": {
            "_model_module": "@jupyter-widgets/base",
            "_model_module_version": "1.2.0",
            "_model_name": "LayoutModel",
            "_view_count": null,
            "_view_module": "@jupyter-widgets/base",
            "_view_module_version": "1.2.0",
            "_view_name": "LayoutView",
            "align_content": null,
            "align_items": null,
            "align_self": null,
            "border": null,
            "bottom": null,
            "display": null,
            "flex": null,
            "flex_flow": null,
            "grid_area": null,
            "grid_auto_columns": null,
            "grid_auto_flow": null,
            "grid_auto_rows": null,
            "grid_column": null,
            "grid_gap": null,
            "grid_row": null,
            "grid_template_areas": null,
            "grid_template_columns": null,
            "grid_template_rows": null,
            "height": null,
            "justify_content": null,
            "justify_items": null,
            "left": null,
            "margin": null,
            "max_height": null,
            "max_width": null,
            "min_height": null,
            "min_width": null,
            "object_fit": null,
            "object_position": null,
            "order": null,
            "overflow": null,
            "overflow_x": null,
            "overflow_y": null,
            "padding": null,
            "right": null,
            "top": null,
            "visibility": null,
            "width": null
          }
        },
        "d7517aa42002497f85b117bdd5b78b9d": {
          "model_module": "@jupyter-widgets/controls",
          "model_name": "TextModel",
          "model_module_version": "1.5.0",
          "state": {
            "_dom_classes": [],
            "_model_module": "@jupyter-widgets/controls",
            "_model_module_version": "1.5.0",
            "_model_name": "TextModel",
            "_view_count": null,
            "_view_module": "@jupyter-widgets/controls",
            "_view_module_version": "1.5.0",
            "_view_name": "TextView",
            "continuous_update": true,
            "description": "You:",
            "description_tooltip": null,
            "disabled": false,
            "layout": "IPY_MODEL_1f5ab8bc10cb4568b7547b836065c2a1",
            "placeholder": "Ask a quesion ...",
            "style": "IPY_MODEL_bdd118167e9a4630b221b93248b84995",
            "value": ""
          }
        },
        "e41e8ea2195b4ad8a0190d5d4c8eeb42": {
          "model_module": "@jupyter-widgets/base",
          "model_name": "LayoutModel",
          "model_module_version": "1.2.0",
          "state": {
            "_model_module": "@jupyter-widgets/base",
            "_model_module_version": "1.2.0",
            "_model_name": "LayoutModel",
            "_view_count": null,
            "_view_module": "@jupyter-widgets/base",
            "_view_module_version": "1.2.0",
            "_view_name": "LayoutView",
            "align_content": null,
            "align_items": null,
            "align_self": null,
            "border": null,
            "bottom": null,
            "display": null,
            "flex": null,
            "flex_flow": null,
            "grid_area": null,
            "grid_auto_columns": null,
            "grid_auto_flow": null,
            "grid_auto_rows": null,
            "grid_column": null,
            "grid_gap": null,
            "grid_row": null,
            "grid_template_areas": null,
            "grid_template_columns": null,
            "grid_template_rows": null,
            "height": null,
            "justify_content": null,
            "justify_items": null,
            "left": null,
            "margin": null,
            "max_height": null,
            "max_width": null,
            "min_height": null,
            "min_width": null,
            "object_fit": null,
            "object_position": null,
            "order": null,
            "overflow": null,
            "overflow_x": null,
            "overflow_y": null,
            "padding": null,
            "right": null,
            "top": null,
            "visibility": null,
            "width": null
          }
        },
        "1f5ab8bc10cb4568b7547b836065c2a1": {
          "model_module": "@jupyter-widgets/base",
          "model_name": "LayoutModel",
          "model_module_version": "1.2.0",
          "state": {
            "_model_module": "@jupyter-widgets/base",
            "_model_module_version": "1.2.0",
            "_model_name": "LayoutModel",
            "_view_count": null,
            "_view_module": "@jupyter-widgets/base",
            "_view_module_version": "1.2.0",
            "_view_name": "LayoutView",
            "align_content": null,
            "align_items": null,
            "align_self": null,
            "border": null,
            "bottom": null,
            "display": null,
            "flex": null,
            "flex_flow": null,
            "grid_area": null,
            "grid_auto_columns": null,
            "grid_auto_flow": null,
            "grid_auto_rows": null,
            "grid_column": null,
            "grid_gap": null,
            "grid_row": null,
            "grid_template_areas": null,
            "grid_template_columns": null,
            "grid_template_rows": null,
            "height": null,
            "justify_content": null,
            "justify_items": null,
            "left": null,
            "margin": null,
            "max_height": null,
            "max_width": null,
            "min_height": null,
            "min_width": null,
            "object_fit": null,
            "object_position": null,
            "order": null,
            "overflow": null,
            "overflow_x": null,
            "overflow_y": null,
            "padding": null,
            "right": null,
            "top": null,
            "visibility": null,
            "width": "600px"
          }
        },
        "bdd118167e9a4630b221b93248b84995": {
          "model_module": "@jupyter-widgets/controls",
          "model_name": "DescriptionStyleModel",
          "model_module_version": "1.5.0",
          "state": {
            "_model_module": "@jupyter-widgets/controls",
            "_model_module_version": "1.5.0",
            "_model_name": "DescriptionStyleModel",
            "_view_count": null,
            "_view_module": "@jupyter-widgets/base",
            "_view_module_version": "1.2.0",
            "_view_name": "StyleView",
            "description_width": ""
          }
        },
        "059365adcd75452d879d257fea0e76cb": {
          "model_module": "@jupyter-widgets/base",
          "model_name": "LayoutModel",
          "model_module_version": "1.2.0",
          "state": {
            "_model_module": "@jupyter-widgets/base",
            "_model_module_version": "1.2.0",
            "_model_name": "LayoutModel",
            "_view_count": null,
            "_view_module": "@jupyter-widgets/base",
            "_view_module_version": "1.2.0",
            "_view_name": "LayoutView",
            "align_content": null,
            "align_items": null,
            "align_self": null,
            "border": "1px solid black",
            "bottom": null,
            "display": null,
            "flex": null,
            "flex_flow": null,
            "grid_area": null,
            "grid_auto_columns": null,
            "grid_auto_flow": null,
            "grid_auto_rows": null,
            "grid_column": null,
            "grid_gap": null,
            "grid_row": null,
            "grid_template_areas": null,
            "grid_template_columns": null,
            "grid_template_rows": null,
            "height": "300px",
            "justify_content": null,
            "justify_items": null,
            "left": null,
            "margin": null,
            "max_height": null,
            "max_width": null,
            "min_height": null,
            "min_width": null,
            "object_fit": null,
            "object_position": null,
            "order": null,
            "overflow": null,
            "overflow_x": null,
            "overflow_y": "auto",
            "padding": null,
            "right": null,
            "top": null,
            "visibility": null,
            "width": null
          }
        }
      }
    }
  },
  "cells": [
    {
      "cell_type": "markdown",
      "metadata": {
        "id": "view-in-github",
        "colab_type": "text"
      },
      "source": [
        "<a href=\"https://colab.research.google.com/github/thomaspurk/python-gen-ai-chat-examples/blob/main/Multi_Turn_Chat_OpenAI_API.ipynb\" target=\"_parent\"><img src=\"https://colab.research.google.com/assets/colab-badge.svg\" alt=\"Open In Colab\"/></a>"
      ]
    },
    {
      "cell_type": "code",
      "source": [
        "# Notebook: RAG with LangChain FAISS OpenAI\n",
        "# Author: Thomas Purk\n",
        "# Date: 2025-04-15\n",
        "# Reference: https://platform.openai.com/docs/guides/conversation-state?api-mode=responses"
      ],
      "metadata": {
        "id": "TvskJiiaUWyU"
      },
      "execution_count": 1,
      "outputs": []
    },
    {
      "cell_type": "markdown",
      "source": [
        "# Multi-Turn Chat OpenAI API\n",
        "\n",
        "Demonstrate multiple questions and response interation between a user and an LLM."
      ],
      "metadata": {
        "id": "gX4av0cMWaHl"
      }
    },
    {
      "cell_type": "markdown",
      "source": [
        "## Notebook Setup"
      ],
      "metadata": {
        "id": "R1ZZ8wsgWwER"
      }
    },
    {
      "cell_type": "code",
      "execution_count": 2,
      "metadata": {
        "colab": {
          "base_uri": "https://localhost:8080/"
        },
        "id": "-m5UqGlYcZT6",
        "outputId": "672efad2-c397-4b7f-cbbd-fd9c0c8d3b11"
      },
      "outputs": [
        {
          "output_type": "stream",
          "name": "stdout",
          "text": [
            "openai                                1.72.0\n"
          ]
        }
      ],
      "source": [
        "!pip list | grep openai"
      ]
    },
    {
      "cell_type": "code",
      "source": [
        "# Setup the Notebook\n",
        "\n",
        "# General\n",
        "from google.colab import userdata\n",
        "import openai\n",
        "\n",
        "# User Inteface\n",
        "import ipywidgets as widgets\n",
        "from IPython.display import display, Markdown, clear_output\n",
        "\n",
        "# Load the OpenAI key from Colab\"s Secrets\n",
        "openai.api_key = userdata.get(\"OPENAI_API_KEY\")\n",
        "\n",
        "# Specify which OpenAI model to user\n",
        "model_name = \"gpt-4o-mini\""
      ],
      "metadata": {
        "id": "Uq-ML3eaddCq"
      },
      "execution_count": 3,
      "outputs": []
    },
    {
      "cell_type": "markdown",
      "source": [
        "## Chat logic"
      ],
      "metadata": {
        "id": "nxYRlMhKXOTA"
      }
    },
    {
      "cell_type": "code",
      "source": [
        "# Define chat functions\n",
        "\n",
        "def ask_chatbot(user_input):\n",
        "    \"\"\" Wrapper function around OpenAI\"s chat completions framework. Adds each\n",
        "        user and LLM text to the conversations variable,\n",
        "\n",
        "        Parameters:\n",
        "            user_input (str): Contains the user\"s prompt for the LLM.\n",
        "\n",
        "        Returns:\n",
        "            str: The LLM\"s text response.\n",
        "\n",
        "    \"\"\"\n",
        "\n",
        "    # Append user message\n",
        "    conversation.append({\"role\": \"user\", \"content\": user_input})\n",
        "\n",
        "    # Get response from OpenAI\n",
        "    response = openai.chat.completions.create(\n",
        "        model=model_name,\n",
        "        messages=conversation\n",
        "    )\n",
        "\n",
        "    reply = response.choices[0].message.content\n",
        "\n",
        "    # Append assistant reply to conversation\n",
        "    conversation.append({\"role\": \"assistant\", \"content\": reply})\n",
        "\n",
        "    return reply\n",
        "\n",
        "def on_user_input(submit):\n",
        "    \"\"\" Event handler for binding to the prompt entry text input on the\n",
        "        user interface.\n",
        "\n",
        "        Parameters:\n",
        "            submit (ipywidgets.widgets.widget_string.Text): Event data.\n",
        "\n",
        "    \"\"\"\n",
        "\n",
        "    # Disable controls while waiting for chat repsonse\n",
        "    text_input.disabled = True\n",
        "    with chat_history:\n",
        "        clear_output()\n",
        "        print(\"Waiting for Chat Response . . .\")\n",
        "\n",
        "    # Submit the User Prompt\n",
        "    reply = ask_chatbot(submit.value)\n",
        "\n",
        "    # Clear the input/output controls and print the repsonse\n",
        "    submit.value = \"\"\n",
        "    with chat_history:\n",
        "        clear_output(wait=True)\n",
        "        for item in conversation:\n",
        "            display(Markdown(f\"###{item['role'].upper()}\\n---\\n{item['content']}\"))\n",
        "\n",
        "    # The system is now ready for another user prompt\n",
        "    text_input.disabled = False"
      ],
      "metadata": {
        "id": "aQw1y6Nhej7J"
      },
      "execution_count": 4,
      "outputs": []
    },
    {
      "cell_type": "code",
      "source": [
        "# Create the user interface with ipwidgets\n",
        "\n",
        "# Track the conversation\n",
        "conversation = [\n",
        "    {\n",
        "        \"role\":\"system\", \"content\":\"You are an experienced music teach with strong expertise in classical guitar performance\"\n",
        "    }\n",
        "]\n",
        "\n",
        "# Create the widget to capture the users question\n",
        "text_input = widgets.Text(\n",
        "    placeholder=\"Ask a quesion ...\",\n",
        "    description=\"You:\",\n",
        "    layout=widgets.Layout(width=\"600px\")\n",
        ")\n",
        "\n",
        "# Create the widget to show the history of chats\n",
        "chat_history = widgets.Output(\n",
        "    layout={\"border\": \"1px solid black\", \"height\": \"300px\", \"overflow_y\": \"auto\"}\n",
        ")\n",
        "\n",
        "# Bind the callback to the user interface widget\n",
        "text_input.on_submit(on_user_input)\n",
        "\n",
        "#\n",
        "chat_ui = widgets.VBox([chat_history, widgets.HBox([text_input])])\n",
        "display(chat_ui)"
      ],
      "metadata": {
        "colab": {
          "base_uri": "https://localhost:8080/",
          "height": 351,
          "referenced_widgets": [
            "1659f8e2a9e74e9bb071d0ec242c2955",
            "58fc0c6ac6ac4652931391e509844125",
            "a288833acb684e89b08430b27619cec2",
            "992c9b0e12df4e1f909a0f5b7cc80055",
            "d7517aa42002497f85b117bdd5b78b9d",
            "e41e8ea2195b4ad8a0190d5d4c8eeb42",
            "1f5ab8bc10cb4568b7547b836065c2a1",
            "bdd118167e9a4630b221b93248b84995",
            "059365adcd75452d879d257fea0e76cb"
          ]
        },
        "id": "6ZfLOPTRq5LF",
        "outputId": "6b9d0565-63b0-4981-afe0-723eb5458daa"
      },
      "execution_count": 5,
      "outputs": [
        {
          "output_type": "display_data",
          "data": {
            "text/plain": [
              "VBox(children=(Output(layout=Layout(border='1px solid black', height='300px', overflow_y='auto')), HBox(childr…"
            ],
            "application/vnd.jupyter.widget-view+json": {
              "version_major": 2,
              "version_minor": 0,
              "model_id": "1659f8e2a9e74e9bb071d0ec242c2955"
            }
          },
          "metadata": {}
        }
      ]
    },
    {
      "cell_type": "code",
      "source": [],
      "metadata": {
        "id": "6V5eTnxQc-CV"
      },
      "execution_count": null,
      "outputs": []
    }
  ]
}